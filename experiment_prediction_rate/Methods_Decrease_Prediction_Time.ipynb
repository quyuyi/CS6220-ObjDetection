{
  "nbformat": 4,
  "nbformat_minor": 0,
  "metadata": {
    "kernelspec": {
      "display_name": "Python 3",
      "language": "python",
      "name": "python3"
    },
    "language_info": {
      "codemirror_mode": {
        "name": "ipython",
        "version": 3
      },
      "file_extension": ".py",
      "mimetype": "text/x-python",
      "name": "python",
      "nbconvert_exporter": "python",
      "pygments_lexer": "ipython3",
      "version": "3.6.9"
    },
    "pycharm": {
      "stem_cell": {
        "cell_type": "raw",
        "metadata": {
          "collapsed": false
        },
        "source": [
          "#%md\n",
          "123\n"
        ]
      }
    },
    "colab": {
      "name": "Methods_Decrease_Prediction_Time.ipynb",
      "provenance": [],
      "collapsed_sections": []
    },
    "accelerator": "GPU"
  },
  "cells": [
    {
      "cell_type": "markdown",
      "metadata": {
        "id": "Anb1jlgqW2pT"
      },
      "source": [
        "# Setup"
      ]
    },
    {
      "cell_type": "code",
      "metadata": {
        "id": "50KEsEqxyIzC",
        "colab": {
          "base_uri": "https://localhost:8080/"
        },
        "outputId": "9886e4ad-fd8c-42c0-b9b0-7d19767b7683"
      },
      "source": [
        "# Mount data\n",
        "from google.colab import drive\n",
        "drive.mount(\"/content/drive\")"
      ],
      "execution_count": null,
      "outputs": [
        {
          "output_type": "stream",
          "text": [
            "Drive already mounted at /content/drive; to attempt to forcibly remount, call drive.mount(\"/content/drive\", force_remount=True).\n"
          ],
          "name": "stdout"
        }
      ]
    },
    {
      "cell_type": "code",
      "metadata": {
        "id": "frecL70Hk8zv",
        "colab": {
          "base_uri": "https://localhost:8080/"
        },
        "outputId": "bd230a7d-8981-4c29-a917-a9c0b3e6a085"
      },
      "source": [
        "# Files' location, set to your object-detection-zoo-master repository\n",
        "%cd '/content/drive/My Drive/object-detection-zoo-masterr/'"
      ],
      "execution_count": null,
      "outputs": [
        {
          "output_type": "stream",
          "text": [
            "/content/drive/My Drive/object-detection-zoo-masterr\n"
          ],
          "name": "stdout"
        }
      ]
    },
    {
      "cell_type": "code",
      "metadata": {
        "id": "CTqGpcFZXwGF"
      },
      "source": [
        "#Run this cell when starting a new kernel\n",
        "# This cell can be commented out after running once\n",
        "\n",
        "# Set up virtual environment\n",
        "!pip install virtualenv\n",
        "!virtualenv -p /usr/bin/python3 bigdata\n",
        "!source bigdata/bin/activate\n",
        "\n",
        "# Fix bugs and install dependencies\n",
        "!pip uninstall -y tensorflow\n",
        "!pip install -r requirements.txt\n"
      ],
      "execution_count": null,
      "outputs": []
    },
    {
      "cell_type": "code",
      "metadata": {
        "id": "lrah9x1sjzW_"
      },
      "source": [
        "# In case tensorflow bugs are experienced\n",
        "# Try to unintall and install tensorflow-gpu \n",
        "\n",
        "!pip uninstall tensorflow-gpu==1.14.0\n",
        "!pip install tensorflow-gpu==1.14.0"
      ],
      "execution_count": null,
      "outputs": []
    },
    {
      "cell_type": "code",
      "metadata": {
        "id": "Bdt7dYOcPCBQ"
      },
      "source": [
        "from general_utils.processing import letterbox_image_padded, decode_detection_raw\n",
        "from general_utils.visualization import visualize_detection\n",
        "\n",
        "import json\n",
        "import cv2\n",
        "import time\n",
        "from PIL import Image\n",
        "from google.colab.patches import cv2_imshow\n",
        "import matplotlib.pyplot as plt\n",
        "import numpy as np\n",
        "import scipy.misc\n",
        "colors = plt.cm.hsv(np.linspace(0, 1, 21)).tolist()"
      ],
      "execution_count": null,
      "outputs": []
    },
    {
      "cell_type": "code",
      "metadata": {
        "id": "8B5w5VEHPGrR"
      },
      "source": [
        "# Load video\n",
        "vidcap = cv2.VideoCapture('president-on-tech-green.mov')"
      ],
      "execution_count": null,
      "outputs": []
    },
    {
      "cell_type": "code",
      "metadata": {
        "id": "RyClzW03PKIW"
      },
      "source": [
        "# Functions\n",
        "\n",
        "def getFrame(sec):\n",
        "  vidcap.set(cv2.CAP_PROP_POS_MSEC,sec*1000)\n",
        "  hasFrames,img = vidcap.read()\n",
        "  return (img, hasFrames)\n",
        "\n",
        "def generateCv2img(cv2img, detection_processed, path = None, display = False):\n",
        "  fontScale = 0.7 # font & text block ratio\n",
        "  for box in detection_processed:\n",
        "    id, label, conf = box[0], box[1], box[2]\n",
        "    x1, y1, x2, y2 = box[3], box[4], box[5], box[6]\n",
        "    cv2.rectangle(cv2img,(x1,y1),(x2,y2),(0,255,0),6)\n",
        "\n",
        "    labelSize=cv2.getTextSize(label,cv2.FONT_HERSHEY_COMPLEX,fontScale,2)\n",
        "    _x1 = x1\n",
        "    _y1 = y1\n",
        "    _x2 = _x1 + int(labelSize[0][0] * fontScale)\n",
        "    _y2 = y1 - int(labelSize[0][1]* fontScale)\n",
        "    cv2.rectangle(cv2img,(_x1,_y1),(_x2,_y2),(0,255,0),cv2.FILLED)\n",
        "    cv2.putText(cv2img,label,(x1,y1),cv2.FONT_HERSHEY_COMPLEX,0.5,(0,0,0),1)\n",
        "\n",
        "  if path != None:\n",
        "    cv2.imwrite(path + str(count) + \".jpg\", cv2img)\n",
        "\n",
        "  if display: \n",
        "    cv2_imshow(cv2img)\n",
        "\n",
        "  return cv2img\n",
        "\n",
        "  cv2.destroyAllWindows()"
      ],
      "execution_count": null,
      "outputs": []
    },
    {
      "cell_type": "markdown",
      "metadata": {
        "id": "s7kmYwztHY9u"
      },
      "source": [
        "##Methods to Decrease Prediction Time\n"
      ]
    },
    {
      "cell_type": "code",
      "metadata": {
        "id": "mxeTGfh1HYVe"
      },
      "source": [
        "\n",
        "#Method1\n",
        "\n",
        "#calculate the average cumulative prediction time and compare it with the target fps to fluctuate to a different fps \n",
        "\n",
        "def changePredTime(goal, changeTo, times, fps_list):\n",
        "\n",
        "  avg_time=sum(times)/len(times)\n",
        "  \n",
        "  #changing framerate according to prediction time average so far\n",
        "  if avg_time > (1/24) :\n",
        "    frame_rate= changeTo\n",
        "  else:\n",
        "    frame_rate= goal\n",
        "\n",
        "  fps_list.append(frame_rate)\n",
        "\n",
        "  return frame_rate\n",
        "\n",
        "#Method2\n",
        "\n",
        "#if prediction time at n-1 increased since n-2 , fluctuate to a different fps; if prediction time at n-1 is decreased since n-2, keep the target fps\n",
        "\n",
        "def changePredTime2(goal, changeTo, times, fps_list, count):\n",
        "\n",
        "  if (times[count-1]-times[count-2]) >= 0:\n",
        "    frame_rate= changeTo\n",
        "  else:\n",
        "    frame_rate= goal\n",
        "\n",
        "  fps_list.append(frame_rate)\n",
        "\n",
        "  return frame_rate"
      ],
      "execution_count": null,
      "outputs": []
    },
    {
      "cell_type": "markdown",
      "metadata": {
        "id": "nzwk4KyJO1Wn"
      },
      "source": [
        "##SSD 512"
      ]
    },
    {
      "cell_type": "code",
      "metadata": {
        "id": "M3MYxQDYPN-_",
        "colab": {
          "base_uri": "https://localhost:8080/"
        },
        "outputId": "6bf3131a-d6a4-4b12-8bc4-4ce7d3927268"
      },
      "source": [
        "\n",
        "from detectors.ssd import SSD512\n",
        "# Load the model\n",
        "detector = SSD512(weights='model_weights/SSD_VOC0712_VGG16_512x512.h5')\n",
        "\n",
        "# Parameters\n",
        "sec = 0\n",
        "fps = 24\n",
        "frameRate = 1 / fps # interval between frames\n",
        "goal=1/24\n",
        "changeTo=1/10     #one of the values from [1/5, 1/10, 1/15, 1/20] can be selected as changeTo variable value\n",
        "count = 0\n",
        "success = getFrame(sec)\n",
        "images = []\n",
        "cv2imgs = []\n",
        "times = []\n",
        "results = []\n",
        "result_imgs = []\n",
        "fps_list=[]\n",
        "fps_list.append(frameRate)\n",
        "modelName = \"ssd512\"\n",
        "path = './output/'+ modelName + str(fps) + '/'\n",
        "\n",
        "# Convert the video to frames and make prediction\n",
        "while success:\n",
        "  count = count + 1\n",
        "  sec = sec + frameRate\n",
        "  sec = round(sec, 2)\n",
        "  image ,success = getFrame(sec)\n",
        "  \n",
        "  if not success:\n",
        "    continue\n",
        "\n",
        "  # convert np array back to image\n",
        "  cv2img = image\n",
        "  cv2imgs.append(image)\n",
        "  image = Image.fromarray(image) \n",
        "  images.append(image)\n",
        "\n",
        "  # Time and make prediction\n",
        "  x_query, x_meta = letterbox_image_padded(image, size=detector.model_img_size)\n",
        "  start = time.time()\n",
        "  detection_raw = detector.detect(x_query, conf_threshold=detector.confidence_thresh_default)\n",
        "  end = time.time()\n",
        "  detection_processed = decode_detection_raw(detection_raw, x_meta, detector.classes)\n",
        "  \n",
        "  # Generate and save the result image\n",
        "  result_img = generateCv2img(cv2img, detection_processed, path = path, display = False)\n",
        "  result_imgs.append(result_img)\n",
        "\n",
        "  # Collect the result\n",
        "  results.append(detection_processed)\n",
        "  times.append(end - start)\n",
        "\n",
        "  #method1\n",
        "  #changing fps if there is lag\n",
        "  # frameRate=changePredTime(goal, changeTo, times, fps_list)\n",
        "\n",
        "  #method2\n",
        "  #changing fps if there is lag\n",
        "  if len(times)>1:\n",
        "    frameRate=changePredTime2(goal, changeTo, times, fps_list, count) \n",
        "\n",
        "\n",
        "print(\"Number of frames:\", len(times))\n",
        "\n",
        "# Time summary    \n",
        "summary = [max(times), min(times), sum(times)/len(times) ]\n",
        "print(\"Prediction time list\", times)\n",
        "print(\"Max:\", max(times))\n",
        "print(\"Min:\", min(times))\n",
        "print(\"Avg:\", sum(times)/len(times))\n",
        "\n",
        "# Save intervals \n",
        "# data = json.dumps(times)\n",
        "\n",
        "# with open(path + 'intervals.json', 'w') as f:\n",
        "#     json.dump(data, f)\n",
        "# # Save summary\n",
        "# data = json.dumps(summary)\n",
        "# with open(path + 'time_summary.json', 'w') as f:\n",
        "#     json.dump(data, f)\n",
        "\n",
        "  \n",
        "# Confidence summary\n",
        "conf = []\n",
        "for elm in results:\n",
        "  if len(elm) != 0:\n",
        "    conf.append(elm[0][2])\n",
        "\n",
        "confFps = {}\n",
        "confFps['rawConfList'] = conf\n",
        "confFps['maxConf'] = max(conf)\n",
        "confFps['minConf'] = min(conf)\n",
        "confFps['avgConf'] = sum(conf)/len(conf)\n",
        "print('max(conf)', confFps['maxConf'])\n",
        "print('min(conf)', confFps['minConf'])\n",
        "print('avgConf', confFps['avgConf'])"
      ],
      "execution_count": null,
      "outputs": [
        {
          "output_type": "stream",
          "text": [
            "Number of frames: 203\n",
            "Prediction time list [3.5265321731567383, 0.09258460998535156, 0.09012651443481445, 0.08404064178466797, 0.08269977569580078, 0.08277368545532227, 0.08382129669189453, 0.08334708213806152, 0.08368396759033203, 0.08211874961853027, 0.08346009254455566, 0.08264875411987305, 0.08364534378051758, 0.08861112594604492, 0.09002256393432617, 0.09222912788391113, 0.09005308151245117, 0.09163904190063477, 0.09028434753417969, 0.09075355529785156, 0.09170103073120117, 0.09322690963745117, 0.09029293060302734, 0.08924412727355957, 0.08888626098632812, 0.08457612991333008, 0.0778651237487793, 0.0753788948059082, 0.07410144805908203, 0.07584762573242188, 0.0741426944732666, 0.0755307674407959, 0.075286865234375, 0.07704496383666992, 0.07666563987731934, 0.07336544990539551, 0.0760805606842041, 0.08231186866760254, 0.08559346199035645, 0.09135627746582031, 0.0842442512512207, 0.0870361328125, 0.0922539234161377, 0.09212589263916016, 0.09306645393371582, 0.0921163558959961, 0.09138083457946777, 0.0864875316619873, 0.07566475868225098, 0.07752299308776855, 0.07497119903564453, 0.07572555541992188, 0.06908130645751953, 0.07110142707824707, 0.06840920448303223, 0.07004976272583008, 0.0683751106262207, 0.06892681121826172, 0.06940937042236328, 0.06736516952514648, 0.06942987442016602, 0.06811904907226562, 0.06704473495483398, 0.06842446327209473, 0.06892633438110352, 0.08268213272094727, 0.08516073226928711, 0.08587527275085449, 0.08977651596069336, 0.0917208194732666, 0.09032559394836426, 0.09302330017089844, 0.0919044017791748, 0.07894492149353027, 0.07776618003845215, 0.07709860801696777, 0.07747650146484375, 0.0705258846282959, 0.07185602188110352, 0.07130885124206543, 0.0702359676361084, 0.06965303421020508, 0.07055449485778809, 0.07057809829711914, 0.07032012939453125, 0.07932782173156738, 0.07046651840209961, 0.07803678512573242, 0.07965826988220215, 0.08233022689819336, 0.08470726013183594, 0.08534741401672363, 0.08639287948608398, 0.08749818801879883, 0.0922858715057373, 0.0912940502166748, 0.09128761291503906, 0.09115290641784668, 0.08072495460510254, 0.08068203926086426, 0.07999372482299805, 0.07820463180541992, 0.07445311546325684, 0.07382416725158691, 0.07365536689758301, 0.07449531555175781, 0.07442402839660645, 0.07401537895202637, 0.07398056983947754, 0.0727229118347168, 0.08195018768310547, 0.07643580436706543, 0.0824897289276123, 0.08702564239501953, 0.08811378479003906, 0.08650088310241699, 0.08814001083374023, 0.09041094779968262, 0.09173393249511719, 0.09125089645385742, 0.09136843681335449, 0.0913534164428711, 0.08708643913269043, 0.0838932991027832, 0.0735616683959961, 0.07382392883300781, 0.0747232437133789, 0.07332110404968262, 0.07193493843078613, 0.07259941101074219, 0.0715336799621582, 0.07100844383239746, 0.07161569595336914, 0.07112932205200195, 0.07163572311401367, 0.08052229881286621, 0.07248902320861816, 0.08371877670288086, 0.08468031883239746, 0.087982177734375, 0.09016013145446777, 0.08951759338378906, 0.09163689613342285, 0.09151721000671387, 0.09197354316711426, 0.09146308898925781, 0.09111547470092773, 0.0911855697631836, 0.09608650207519531, 0.08820915222167969, 0.08521056175231934, 0.08320236206054688, 0.08069491386413574, 0.08084559440612793, 0.08019351959228516, 0.08007264137268066, 0.07987546920776367, 0.08123230934143066, 0.08072400093078613, 0.08899068832397461, 0.07953810691833496, 0.09024715423583984, 0.09292078018188477, 0.09251904487609863, 0.09136629104614258, 0.09192323684692383, 0.09124231338500977, 0.09412121772766113, 0.0911245346069336, 0.09136247634887695, 0.0931551456451416, 0.09575629234313965, 0.09228372573852539, 0.07354593276977539, 0.07601475715637207, 0.07485532760620117, 0.07460689544677734, 0.06905031204223633, 0.07816147804260254, 0.07112860679626465, 0.07042932510375977, 0.07048201560974121, 0.0694589614868164, 0.07079362869262695, 0.07041001319885254, 0.07032585144042969, 0.0764458179473877, 0.07820582389831543, 0.07909607887268066, 0.08105921745300293, 0.08491849899291992, 0.08518576622009277, 0.0886373519897461, 0.08773946762084961, 0.09210729598999023, 0.09285902976989746, 0.0933542251586914, 0.09424066543579102, 0.09198164939880371, 0.09091973304748535, 0.08637356758117676, 0.08527994155883789, 0.07670974731445312]\n",
            "Max: 3.5265321731567383\n",
            "Min: 0.06704473495483398\n",
            "Avg: 0.09885940998058601\n",
            "max(conf) 0.9999951124191284\n",
            "min(conf) 0.9826048016548157\n",
            "avgConf 0.9993859702730413\n"
          ],
          "name": "stdout"
        }
      ]
    },
    {
      "cell_type": "code",
      "metadata": {
        "id": "96RxwEfcpphR",
        "colab": {
          "base_uri": "https://localhost:8080/",
          "height": 406
        },
        "outputId": "ad6b5b04-a56a-417e-fc03-dcce5eae77d3"
      },
      "source": [
        "import pandas as pd\n",
        "#Results of using only 24 fps\n",
        "fps_24 = pd.DataFrame(\n",
        "    # {'FPS': fps_list,\n",
        "     {'Times24': times,\n",
        "     'Confidence24': conf \n",
        "    })\n",
        "fps_24"
      ],
      "execution_count": null,
      "outputs": [
        {
          "output_type": "execute_result",
          "data": {
            "text/html": [
              "<div>\n",
              "<style scoped>\n",
              "    .dataframe tbody tr th:only-of-type {\n",
              "        vertical-align: middle;\n",
              "    }\n",
              "\n",
              "    .dataframe tbody tr th {\n",
              "        vertical-align: top;\n",
              "    }\n",
              "\n",
              "    .dataframe thead th {\n",
              "        text-align: right;\n",
              "    }\n",
              "</style>\n",
              "<table border=\"1\" class=\"dataframe\">\n",
              "  <thead>\n",
              "    <tr style=\"text-align: right;\">\n",
              "      <th></th>\n",
              "      <th>Times24</th>\n",
              "      <th>Confidence24</th>\n",
              "    </tr>\n",
              "  </thead>\n",
              "  <tbody>\n",
              "    <tr>\n",
              "      <th>0</th>\n",
              "      <td>2.941921</td>\n",
              "      <td>0.999936</td>\n",
              "    </tr>\n",
              "    <tr>\n",
              "      <th>1</th>\n",
              "      <td>0.092501</td>\n",
              "      <td>0.999542</td>\n",
              "    </tr>\n",
              "    <tr>\n",
              "      <th>2</th>\n",
              "      <td>0.100120</td>\n",
              "      <td>0.999648</td>\n",
              "    </tr>\n",
              "    <tr>\n",
              "      <th>3</th>\n",
              "      <td>0.092705</td>\n",
              "      <td>0.999727</td>\n",
              "    </tr>\n",
              "    <tr>\n",
              "      <th>4</th>\n",
              "      <td>0.089655</td>\n",
              "      <td>0.999118</td>\n",
              "    </tr>\n",
              "    <tr>\n",
              "      <th>...</th>\n",
              "      <td>...</td>\n",
              "      <td>...</td>\n",
              "    </tr>\n",
              "    <tr>\n",
              "      <th>198</th>\n",
              "      <td>0.092422</td>\n",
              "      <td>0.999885</td>\n",
              "    </tr>\n",
              "    <tr>\n",
              "      <th>199</th>\n",
              "      <td>0.090070</td>\n",
              "      <td>0.999883</td>\n",
              "    </tr>\n",
              "    <tr>\n",
              "      <th>200</th>\n",
              "      <td>0.079166</td>\n",
              "      <td>0.999881</td>\n",
              "    </tr>\n",
              "    <tr>\n",
              "      <th>201</th>\n",
              "      <td>0.077438</td>\n",
              "      <td>0.999816</td>\n",
              "    </tr>\n",
              "    <tr>\n",
              "      <th>202</th>\n",
              "      <td>0.080408</td>\n",
              "      <td>0.999582</td>\n",
              "    </tr>\n",
              "  </tbody>\n",
              "</table>\n",
              "<p>203 rows × 2 columns</p>\n",
              "</div>"
            ],
            "text/plain": [
              "      Times24  Confidence24\n",
              "0    2.941921      0.999936\n",
              "1    0.092501      0.999542\n",
              "2    0.100120      0.999648\n",
              "3    0.092705      0.999727\n",
              "4    0.089655      0.999118\n",
              "..        ...           ...\n",
              "198  0.092422      0.999885\n",
              "199  0.090070      0.999883\n",
              "200  0.079166      0.999881\n",
              "201  0.077438      0.999816\n",
              "202  0.080408      0.999582\n",
              "\n",
              "[203 rows x 2 columns]"
            ]
          },
          "metadata": {
            "tags": []
          },
          "execution_count": 82
        }
      ]
    },
    {
      "cell_type": "code",
      "metadata": {
        "id": "XkHI5aPktk-a",
        "colab": {
          "base_uri": "https://localhost:8080/",
          "height": 406
        },
        "outputId": "2b36ae16-84e2-4e47-9285-500973ab7a7b"
      },
      "source": [
        "\n",
        "#Results of using both 20 and 24 fps\n",
        "import pandas as pd\n",
        "fps_2420 = pd.DataFrame(\n",
        "    {'FPS2420': fps_list,\n",
        "     'Times2420': times,\n",
        "     'Confidence2420': conf \n",
        "    })\n",
        "fps_2420"
      ],
      "execution_count": null,
      "outputs": [
        {
          "output_type": "execute_result",
          "data": {
            "text/html": [
              "<div>\n",
              "<style scoped>\n",
              "    .dataframe tbody tr th:only-of-type {\n",
              "        vertical-align: middle;\n",
              "    }\n",
              "\n",
              "    .dataframe tbody tr th {\n",
              "        vertical-align: top;\n",
              "    }\n",
              "\n",
              "    .dataframe thead th {\n",
              "        text-align: right;\n",
              "    }\n",
              "</style>\n",
              "<table border=\"1\" class=\"dataframe\">\n",
              "  <thead>\n",
              "    <tr style=\"text-align: right;\">\n",
              "      <th></th>\n",
              "      <th>FPS2420</th>\n",
              "      <th>Times2420</th>\n",
              "      <th>Confidence2420</th>\n",
              "    </tr>\n",
              "  </thead>\n",
              "  <tbody>\n",
              "    <tr>\n",
              "      <th>0</th>\n",
              "      <td>0.000000</td>\n",
              "      <td>1.931087</td>\n",
              "      <td>0.999936</td>\n",
              "    </tr>\n",
              "    <tr>\n",
              "      <th>1</th>\n",
              "      <td>0.041667</td>\n",
              "      <td>0.091071</td>\n",
              "      <td>0.999542</td>\n",
              "    </tr>\n",
              "    <tr>\n",
              "      <th>2</th>\n",
              "      <td>0.050000</td>\n",
              "      <td>0.091203</td>\n",
              "      <td>0.999648</td>\n",
              "    </tr>\n",
              "    <tr>\n",
              "      <th>3</th>\n",
              "      <td>0.041667</td>\n",
              "      <td>0.085222</td>\n",
              "      <td>0.999359</td>\n",
              "    </tr>\n",
              "    <tr>\n",
              "      <th>4</th>\n",
              "      <td>0.041667</td>\n",
              "      <td>0.079201</td>\n",
              "      <td>0.999118</td>\n",
              "    </tr>\n",
              "    <tr>\n",
              "      <th>...</th>\n",
              "      <td>...</td>\n",
              "      <td>...</td>\n",
              "      <td>...</td>\n",
              "    </tr>\n",
              "    <tr>\n",
              "      <th>174</th>\n",
              "      <td>0.041667</td>\n",
              "      <td>0.071980</td>\n",
              "      <td>0.999885</td>\n",
              "    </tr>\n",
              "    <tr>\n",
              "      <th>175</th>\n",
              "      <td>0.050000</td>\n",
              "      <td>0.073601</td>\n",
              "      <td>0.999883</td>\n",
              "    </tr>\n",
              "    <tr>\n",
              "      <th>176</th>\n",
              "      <td>0.041667</td>\n",
              "      <td>0.072655</td>\n",
              "      <td>0.999887</td>\n",
              "    </tr>\n",
              "    <tr>\n",
              "      <th>177</th>\n",
              "      <td>0.050000</td>\n",
              "      <td>0.074306</td>\n",
              "      <td>0.999818</td>\n",
              "    </tr>\n",
              "    <tr>\n",
              "      <th>178</th>\n",
              "      <td>0.041667</td>\n",
              "      <td>0.068752</td>\n",
              "      <td>0.999531</td>\n",
              "    </tr>\n",
              "  </tbody>\n",
              "</table>\n",
              "<p>179 rows × 3 columns</p>\n",
              "</div>"
            ],
            "text/plain": [
              "      FPS2420  Times2420  Confidence2420\n",
              "0    0.000000   1.931087        0.999936\n",
              "1    0.041667   0.091071        0.999542\n",
              "2    0.050000   0.091203        0.999648\n",
              "3    0.041667   0.085222        0.999359\n",
              "4    0.041667   0.079201        0.999118\n",
              "..        ...        ...             ...\n",
              "174  0.041667   0.071980        0.999885\n",
              "175  0.050000   0.073601        0.999883\n",
              "176  0.041667   0.072655        0.999887\n",
              "177  0.050000   0.074306        0.999818\n",
              "178  0.041667   0.068752        0.999531\n",
              "\n",
              "[179 rows x 3 columns]"
            ]
          },
          "metadata": {
            "tags": []
          },
          "execution_count": 66
        }
      ]
    },
    {
      "cell_type": "code",
      "metadata": {
        "id": "OaTsLDaIuxN5",
        "colab": {
          "base_uri": "https://localhost:8080/",
          "height": 406
        },
        "outputId": "62cf64b3-2f3d-451a-e628-8e93382ba553"
      },
      "source": [
        "#Results of using both 24 and 15\n",
        "fps_list.insert(0,0)\n",
        "fps_2415 = pd.DataFrame(\n",
        "    {'FPS2415': fps_list,\n",
        "     'Times2415': times,\n",
        "     'Confidence2415': conf \n",
        "    })\n",
        "fps_2415"
      ],
      "execution_count": null,
      "outputs": [
        {
          "output_type": "execute_result",
          "data": {
            "text/html": [
              "<div>\n",
              "<style scoped>\n",
              "    .dataframe tbody tr th:only-of-type {\n",
              "        vertical-align: middle;\n",
              "    }\n",
              "\n",
              "    .dataframe tbody tr th {\n",
              "        vertical-align: top;\n",
              "    }\n",
              "\n",
              "    .dataframe thead th {\n",
              "        text-align: right;\n",
              "    }\n",
              "</style>\n",
              "<table border=\"1\" class=\"dataframe\">\n",
              "  <thead>\n",
              "    <tr style=\"text-align: right;\">\n",
              "      <th></th>\n",
              "      <th>FPS2415</th>\n",
              "      <th>Times2415</th>\n",
              "      <th>Confidence2415</th>\n",
              "    </tr>\n",
              "  </thead>\n",
              "  <tbody>\n",
              "    <tr>\n",
              "      <th>0</th>\n",
              "      <td>0.000000</td>\n",
              "      <td>2.100381</td>\n",
              "      <td>0.999936</td>\n",
              "    </tr>\n",
              "    <tr>\n",
              "      <th>1</th>\n",
              "      <td>0.041667</td>\n",
              "      <td>0.090249</td>\n",
              "      <td>0.999542</td>\n",
              "    </tr>\n",
              "    <tr>\n",
              "      <th>2</th>\n",
              "      <td>0.041667</td>\n",
              "      <td>0.085165</td>\n",
              "      <td>0.999648</td>\n",
              "    </tr>\n",
              "    <tr>\n",
              "      <th>3</th>\n",
              "      <td>0.041667</td>\n",
              "      <td>0.076473</td>\n",
              "      <td>0.999727</td>\n",
              "    </tr>\n",
              "    <tr>\n",
              "      <th>4</th>\n",
              "      <td>0.041667</td>\n",
              "      <td>0.076252</td>\n",
              "      <td>0.999118</td>\n",
              "    </tr>\n",
              "    <tr>\n",
              "      <th>...</th>\n",
              "      <td>...</td>\n",
              "      <td>...</td>\n",
              "      <td>...</td>\n",
              "    </tr>\n",
              "    <tr>\n",
              "      <th>144</th>\n",
              "      <td>0.066667</td>\n",
              "      <td>0.085923</td>\n",
              "      <td>0.999888</td>\n",
              "    </tr>\n",
              "    <tr>\n",
              "      <th>145</th>\n",
              "      <td>0.041667</td>\n",
              "      <td>0.085473</td>\n",
              "      <td>0.999883</td>\n",
              "    </tr>\n",
              "    <tr>\n",
              "      <th>146</th>\n",
              "      <td>0.041667</td>\n",
              "      <td>0.085310</td>\n",
              "      <td>0.999881</td>\n",
              "    </tr>\n",
              "    <tr>\n",
              "      <th>147</th>\n",
              "      <td>0.041667</td>\n",
              "      <td>0.081389</td>\n",
              "      <td>0.999816</td>\n",
              "    </tr>\n",
              "    <tr>\n",
              "      <th>148</th>\n",
              "      <td>0.041667</td>\n",
              "      <td>0.077891</td>\n",
              "      <td>0.999582</td>\n",
              "    </tr>\n",
              "  </tbody>\n",
              "</table>\n",
              "<p>149 rows × 3 columns</p>\n",
              "</div>"
            ],
            "text/plain": [
              "      FPS2415  Times2415  Confidence2415\n",
              "0    0.000000   2.100381        0.999936\n",
              "1    0.041667   0.090249        0.999542\n",
              "2    0.041667   0.085165        0.999648\n",
              "3    0.041667   0.076473        0.999727\n",
              "4    0.041667   0.076252        0.999118\n",
              "..        ...        ...             ...\n",
              "144  0.066667   0.085923        0.999888\n",
              "145  0.041667   0.085473        0.999883\n",
              "146  0.041667   0.085310        0.999881\n",
              "147  0.041667   0.081389        0.999816\n",
              "148  0.041667   0.077891        0.999582\n",
              "\n",
              "[149 rows x 3 columns]"
            ]
          },
          "metadata": {
            "tags": []
          },
          "execution_count": 71
        }
      ]
    },
    {
      "cell_type": "code",
      "metadata": {
        "id": "9t3snIDbxFS1",
        "colab": {
          "base_uri": "https://localhost:8080/",
          "height": 406
        },
        "outputId": "98bc1c64-7549-4396-ecc6-02446c08645d"
      },
      "source": [
        "#Results of using both 24 and 10\n",
        "fps_list.insert(0,0)\n",
        "fps_2410 = pd.DataFrame(\n",
        "    {'FPS2410': fps_list,\n",
        "     'Times2410': times,\n",
        "     'Confidence2410': conf \n",
        "    })\n",
        "fps_2410"
      ],
      "execution_count": null,
      "outputs": [
        {
          "output_type": "execute_result",
          "data": {
            "text/html": [
              "<div>\n",
              "<style scoped>\n",
              "    .dataframe tbody tr th:only-of-type {\n",
              "        vertical-align: middle;\n",
              "    }\n",
              "\n",
              "    .dataframe tbody tr th {\n",
              "        vertical-align: top;\n",
              "    }\n",
              "\n",
              "    .dataframe thead th {\n",
              "        text-align: right;\n",
              "    }\n",
              "</style>\n",
              "<table border=\"1\" class=\"dataframe\">\n",
              "  <thead>\n",
              "    <tr style=\"text-align: right;\">\n",
              "      <th></th>\n",
              "      <th>FPS2410</th>\n",
              "      <th>Times2410</th>\n",
              "      <th>Confidence2410</th>\n",
              "    </tr>\n",
              "  </thead>\n",
              "  <tbody>\n",
              "    <tr>\n",
              "      <th>0</th>\n",
              "      <td>0.000000</td>\n",
              "      <td>2.343856</td>\n",
              "      <td>0.999936</td>\n",
              "    </tr>\n",
              "    <tr>\n",
              "      <th>1</th>\n",
              "      <td>0.041667</td>\n",
              "      <td>0.090586</td>\n",
              "      <td>0.999542</td>\n",
              "    </tr>\n",
              "    <tr>\n",
              "      <th>2</th>\n",
              "      <td>0.041667</td>\n",
              "      <td>0.090225</td>\n",
              "      <td>0.999648</td>\n",
              "    </tr>\n",
              "    <tr>\n",
              "      <th>3</th>\n",
              "      <td>0.041667</td>\n",
              "      <td>0.081773</td>\n",
              "      <td>0.999727</td>\n",
              "    </tr>\n",
              "    <tr>\n",
              "      <th>4</th>\n",
              "      <td>0.041667</td>\n",
              "      <td>0.081131</td>\n",
              "      <td>0.999118</td>\n",
              "    </tr>\n",
              "    <tr>\n",
              "      <th>...</th>\n",
              "      <td>...</td>\n",
              "      <td>...</td>\n",
              "      <td>...</td>\n",
              "    </tr>\n",
              "    <tr>\n",
              "      <th>117</th>\n",
              "      <td>0.100000</td>\n",
              "      <td>0.083866</td>\n",
              "      <td>0.999389</td>\n",
              "    </tr>\n",
              "    <tr>\n",
              "      <th>118</th>\n",
              "      <td>0.100000</td>\n",
              "      <td>0.086388</td>\n",
              "      <td>0.999624</td>\n",
              "    </tr>\n",
              "    <tr>\n",
              "      <th>119</th>\n",
              "      <td>0.100000</td>\n",
              "      <td>0.088527</td>\n",
              "      <td>0.999883</td>\n",
              "    </tr>\n",
              "    <tr>\n",
              "      <th>120</th>\n",
              "      <td>0.041667</td>\n",
              "      <td>0.086212</td>\n",
              "      <td>0.999816</td>\n",
              "    </tr>\n",
              "    <tr>\n",
              "      <th>121</th>\n",
              "      <td>0.041667</td>\n",
              "      <td>0.085489</td>\n",
              "      <td>0.999582</td>\n",
              "    </tr>\n",
              "  </tbody>\n",
              "</table>\n",
              "<p>122 rows × 3 columns</p>\n",
              "</div>"
            ],
            "text/plain": [
              "      FPS2410  Times2410  Confidence2410\n",
              "0    0.000000   2.343856        0.999936\n",
              "1    0.041667   0.090586        0.999542\n",
              "2    0.041667   0.090225        0.999648\n",
              "3    0.041667   0.081773        0.999727\n",
              "4    0.041667   0.081131        0.999118\n",
              "..        ...        ...             ...\n",
              "117  0.100000   0.083866        0.999389\n",
              "118  0.100000   0.086388        0.999624\n",
              "119  0.100000   0.088527        0.999883\n",
              "120  0.041667   0.086212        0.999816\n",
              "121  0.041667   0.085489        0.999582\n",
              "\n",
              "[122 rows x 3 columns]"
            ]
          },
          "metadata": {
            "tags": []
          },
          "execution_count": 76
        }
      ]
    },
    {
      "cell_type": "code",
      "metadata": {
        "id": "fOpuJUbz2Vmb",
        "colab": {
          "base_uri": "https://localhost:8080/",
          "height": 406
        },
        "outputId": "9e823623-ed03-4729-90e7-e91a1f2396f5"
      },
      "source": [
        "#Results of using both 24 and 5\n",
        "fps_list.insert(0,0)\n",
        "fps_2405 = pd.DataFrame(\n",
        "    {'FPS2405': fps_list,\n",
        "     'Times2405': times,\n",
        "     'Confidence2405': conf \n",
        "    })\n",
        "fps_2405"
      ],
      "execution_count": null,
      "outputs": [
        {
          "output_type": "execute_result",
          "data": {
            "text/html": [
              "<div>\n",
              "<style scoped>\n",
              "    .dataframe tbody tr th:only-of-type {\n",
              "        vertical-align: middle;\n",
              "    }\n",
              "\n",
              "    .dataframe tbody tr th {\n",
              "        vertical-align: top;\n",
              "    }\n",
              "\n",
              "    .dataframe thead th {\n",
              "        text-align: right;\n",
              "    }\n",
              "</style>\n",
              "<table border=\"1\" class=\"dataframe\">\n",
              "  <thead>\n",
              "    <tr style=\"text-align: right;\">\n",
              "      <th></th>\n",
              "      <th>FPS2405</th>\n",
              "      <th>Times2405</th>\n",
              "      <th>Confidence2405</th>\n",
              "    </tr>\n",
              "  </thead>\n",
              "  <tbody>\n",
              "    <tr>\n",
              "      <th>0</th>\n",
              "      <td>0.000000</td>\n",
              "      <td>2.604544</td>\n",
              "      <td>0.999936</td>\n",
              "    </tr>\n",
              "    <tr>\n",
              "      <th>1</th>\n",
              "      <td>0.041667</td>\n",
              "      <td>0.091049</td>\n",
              "      <td>0.999542</td>\n",
              "    </tr>\n",
              "    <tr>\n",
              "      <th>2</th>\n",
              "      <td>0.041667</td>\n",
              "      <td>0.090880</td>\n",
              "      <td>0.999648</td>\n",
              "    </tr>\n",
              "    <tr>\n",
              "      <th>3</th>\n",
              "      <td>0.041667</td>\n",
              "      <td>0.080118</td>\n",
              "      <td>0.999727</td>\n",
              "    </tr>\n",
              "    <tr>\n",
              "      <th>4</th>\n",
              "      <td>0.200000</td>\n",
              "      <td>0.083033</td>\n",
              "      <td>0.999118</td>\n",
              "    </tr>\n",
              "    <tr>\n",
              "      <th>...</th>\n",
              "      <td>...</td>\n",
              "      <td>...</td>\n",
              "      <td>...</td>\n",
              "    </tr>\n",
              "    <tr>\n",
              "      <th>64</th>\n",
              "      <td>0.200000</td>\n",
              "      <td>0.099676</td>\n",
              "      <td>0.999850</td>\n",
              "    </tr>\n",
              "    <tr>\n",
              "      <th>65</th>\n",
              "      <td>0.041667</td>\n",
              "      <td>0.085413</td>\n",
              "      <td>0.999834</td>\n",
              "    </tr>\n",
              "    <tr>\n",
              "      <th>66</th>\n",
              "      <td>0.041667</td>\n",
              "      <td>0.077057</td>\n",
              "      <td>0.999885</td>\n",
              "    </tr>\n",
              "    <tr>\n",
              "      <th>67</th>\n",
              "      <td>0.041667</td>\n",
              "      <td>0.074663</td>\n",
              "      <td>0.999883</td>\n",
              "    </tr>\n",
              "    <tr>\n",
              "      <th>68</th>\n",
              "      <td>0.200000</td>\n",
              "      <td>0.074856</td>\n",
              "      <td>0.999881</td>\n",
              "    </tr>\n",
              "  </tbody>\n",
              "</table>\n",
              "<p>69 rows × 3 columns</p>\n",
              "</div>"
            ],
            "text/plain": [
              "     FPS2405  Times2405  Confidence2405\n",
              "0   0.000000   2.604544        0.999936\n",
              "1   0.041667   0.091049        0.999542\n",
              "2   0.041667   0.090880        0.999648\n",
              "3   0.041667   0.080118        0.999727\n",
              "4   0.200000   0.083033        0.999118\n",
              "..       ...        ...             ...\n",
              "64  0.200000   0.099676        0.999850\n",
              "65  0.041667   0.085413        0.999834\n",
              "66  0.041667   0.077057        0.999885\n",
              "67  0.041667   0.074663        0.999883\n",
              "68  0.200000   0.074856        0.999881\n",
              "\n",
              "[69 rows x 3 columns]"
            ]
          },
          "metadata": {
            "tags": []
          },
          "execution_count": 78
        }
      ]
    },
    {
      "cell_type": "code",
      "metadata": {
        "id": "QVAnLshMI9HO"
      },
      "source": [
        "fps_2415.to_excel('2415method2.xlsx')\n",
        "fps_2405.to_excel('2405method2.xlsx')\n",
        "fps_2410.to_excel('2410method2.xlsx')\n",
        "fps_2420.to_excel('2420method2.xlsx')\n",
        "fps_24.to_excel('24method2.xlsx')"
      ],
      "execution_count": null,
      "outputs": []
    },
    {
      "cell_type": "code",
      "metadata": {
        "id": "7v7teKCbiwfB"
      },
      "source": [
        "#only 24 fps\n",
        "import matplotlib.pyplot as plt\n",
        "plt.plot(fps_2405[1:].Times2405)  #5\n",
        "plt.plot(fps_2410.iloc[1:].Times2410)\n",
        "plt.plot(fps_2415.iloc[1:].Times2415)\n",
        "plt.plot(fps_2420.iloc[1:].Times2420)\n",
        "plt.plot(fps_24.iloc[1:].Times24)\n",
        "\n",
        "plt.title('Prediction Times') \n",
        "\n",
        "plt.legend([\"5\", \"10\",\"15\", \"20\",\"24\"],loc='center left', bbox_to_anchor=(1.0, 0.5))\n",
        "\n",
        "\n",
        "# plt.ylabel('some numbers')\n",
        "plt.show()"
      ],
      "execution_count": null,
      "outputs": []
    },
    {
      "cell_type": "code",
      "metadata": {
        "id": "27FqloeEl3Wb",
        "colab": {
          "base_uri": "https://localhost:8080/",
          "height": 281
        },
        "outputId": "e8583d0f-8ef3-4e40-d58f-b95f17019ea5"
      },
      "source": [
        "#only 24 fps\n",
        "#method1 \n",
        "import matplotlib.pyplot as plt\n",
        "\n",
        "plt.plot(fps_2405[1:].Times2405)  \n",
        "plt.plot(fps_2410.iloc[1:].Times2410)\n",
        "plt.plot(fps_2415.iloc[1:].Times2415)\n",
        "plt.plot(fps_2420.iloc[1:].Times2420)\n",
        "plt.plot(fps_24.iloc[1:].Times24)\n",
        "\n",
        "plt.title('Prediction Times') \n",
        "\n",
        "plt.legend([\"5\", \"10\",\"15\", \"20\",\"24\"],loc='center left', bbox_to_anchor=(1.0, 0.5))\n",
        "\n",
        "plt.show()"
      ],
      "execution_count": null,
      "outputs": [
        {
          "output_type": "display_data",
          "data": {
            "image/png": "[encoded data removed]",
            "text/plain": [
              "<Figure size 432x288 with 1 Axes>"
            ]
          },
          "metadata": {
            "tags": [],
            "needs_background": "light"
          }
        }
      ]
    },
    {
      "cell_type": "code",
      "metadata": {
        "id": "K3o_A9Dqs_-w",
        "colab": {
          "base_uri": "https://localhost:8080/",
          "height": 281
        },
        "outputId": "83a093d6-72e5-4d57-e9b3-ba892c6a2e83"
      },
      "source": [
        "#method2\n",
        "import matplotlib.pyplot as plt\n",
        "\n",
        "plt.plot(fps_2405[1:].Times2405)  \n",
        "plt.plot(fps_2410.iloc[1:].Times2410)\n",
        "plt.plot(fps_2415.iloc[1:].Times2415)\n",
        "plt.plot(fps_2420.iloc[1:].Times2420)\n",
        "plt.plot(fps_24and20.iloc[1:].Times24)\n",
        "\n",
        "plt.title('Prediction Times') \n",
        "\n",
        "plt.legend([\"5\", \"10\",\"15\", \"20\",\"24\"],loc='center left', bbox_to_anchor=(1.0, 0.5))\n",
        "\n",
        "plt.show()"
      ],
      "execution_count": null,
      "outputs": [
        {
          "output_type": "display_data",
          "data": {
            "image/png": "[encoded data removed]",
            "text/plain": [
              "<Figure size 432x288 with 1 Axes>"
            ]
          },
          "metadata": {
            "tags": [],
            "needs_background": "light"
          }
        }
      ]
    },
    {
      "cell_type": "code",
      "metadata": {
        "id": "9oE5FQaSIRb2"
      },
      "source": [
        "#cumulative avg for only 24 fps \n",
        "def hello2(new_g):\n",
        "  for i in range(len(new_g.index)):\n",
        "    if i==0 or i==1:\n",
        "      new_g.loc[i,\"new\"]=new_g.iloc[i,0]\n",
        "    else:\n",
        "      new_g.loc[i,\"new\"]=(new_g.iloc[i,0]+new_g.loc[i-1,\"new\"])/i\n",
        "  return new_g"
      ],
      "execution_count": null,
      "outputs": []
    },
    {
      "cell_type": "code",
      "metadata": {
        "id": "Tsw3HcBXCaz9"
      },
      "source": [
        "#cumulative avg for the rest\n",
        "def hello(new_g):\n",
        "  for i in range(len(new_g.index)):\n",
        "    if i==0 or i==1:\n",
        "      new_g.loc[i,\"new\"]=new_g.iloc[i,1]\n",
        "    else:\n",
        "      new_g.loc[i,\"new\"]=(new_g.iloc[i,1]+new_g.loc[i-1,\"new\"])/i\n",
        "  return new_g"
      ],
      "execution_count": null,
      "outputs": []
    },
    {
      "cell_type": "code",
      "metadata": {
        "id": "WuceqaAkEzvi",
        "colab": {
          "base_uri": "https://localhost:8080/",
          "height": 281
        },
        "outputId": "f0ad1c36-d0c3-409b-cb03-4c6b16370426"
      },
      "source": [
        "import matplotlib.pyplot as plt\n",
        "plt.plot(hello(fps_2405).iloc[1:30].new)  \n",
        "plt.plot(hello(fps_2410).iloc[1:30].new)\n",
        "plt.plot(hello(fps_2415).iloc[1:30].new)\n",
        "plt.plot(hello(fps_2420).iloc[1:30].new)\n",
        "plt.plot(hello2(fps_24and20).iloc[1:30].new)\n",
        "\n",
        "plt.title('Cumulative Average of Prediction Times(First 30 Data)') \n",
        "\n",
        "\n",
        "plt.legend([\"5\", \"10\",\"15\", \"20\",\"24\"],loc='center left', bbox_to_anchor=(1.0, 0.5))\n",
        "\n",
        "plt.show()"
      ],
      "execution_count": null,
      "outputs": [
        {
          "output_type": "display_data",
          "data": {
            "image/png": "[encoded data removed]",
            "text/plain": [
              "<Figure size 432x288 with 1 Axes>"
            ]
          },
          "metadata": {
            "tags": [],
            "needs_background": "light"
          }
        }
      ]
    }
  ]
}