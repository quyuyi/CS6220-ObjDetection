{
  "nbformat": 4,
  "nbformat_minor": 0,
  "metadata": {
    "kernelspec": {
      "display_name": "Python 3",
      "language": "python",
      "name": "python3"
    },
    "language_info": {
      "codemirror_mode": {
        "name": "ipython",
        "version": 3
      },
      "file_extension": ".py",
      "mimetype": "text/x-python",
      "name": "python",
      "nbconvert_exporter": "python",
      "pygments_lexer": "ipython3",
      "version": "3.6.9"
    },
    "pycharm": {
      "stem_cell": {
        "cell_type": "raw",
        "metadata": {
          "collapsed": false
        },
        "source": [
          "#%md\n",
          "123\n"
        ]
      }
    },
    "colab": {
      "name": "Fix_GPU_Methods_Decrease_Prediction_Time.ipynb",
      "provenance": [],
      "collapsed_sections": []
    },
    "accelerator": "GPU"
  },
  "cells": [
    {
      "cell_type": "markdown",
      "metadata": {
        "id": "Anb1jlgqW2pT"
      },
      "source": [
        "# Setup"
      ]
    },
    {
      "cell_type": "code",
      "metadata": {
        "id": "50KEsEqxyIzC",
        "colab": {
          "base_uri": "https://localhost:8080/"
        },
        "outputId": "7567d053-b75c-4a01-87ba-39f1c121dd55"
      },
      "source": [
        "# Mount data\n",
        "from google.colab import drive\n",
        "drive.mount(\"/content/drive\")"
      ],
      "execution_count": null,
      "outputs": [
        {
          "output_type": "stream",
          "text": [
            "Mounted at /content/drive\n"
          ],
          "name": "stdout"
        }
      ]
    },
    {
      "cell_type": "code",
      "metadata": {
        "id": "frecL70Hk8zv",
        "colab": {
          "base_uri": "https://localhost:8080/"
        },
        "outputId": "b73f7643-3637-461f-b5ed-982fa319b887"
      },
      "source": [
        "# Files' location, set to your object-detection-zoo-master repository\n",
        "%cd '/content/drive/My Drive/object-detection-zoo-masterr/'"
      ],
      "execution_count": null,
      "outputs": [
        {
          "output_type": "stream",
          "text": [
            "/content/drive/My Drive/object-detection-zoo-masterr\n"
          ],
          "name": "stdout"
        }
      ]
    },
    {
      "cell_type": "code",
      "metadata": {
        "id": "CTqGpcFZXwGF"
      },
      "source": [
        "#Run this Cell when starting a new kernel\n",
        "# This cell can be commented out after running once\n",
        "\n",
        "# Set up virtual environment\n",
        "!pip install virtualenv\n",
        "!virtualenv -p /usr/bin/python3 bigdata\n",
        "!source bigdata/bin/activate\n",
        "\n",
        "# Fix bugs and install dependencies\n",
        "!pip uninstall -y tensorflow\n",
        "!pip install -r requirements.txt\n"
      ],
      "execution_count": null,
      "outputs": []
    },
    {
      "cell_type": "code",
      "metadata": {
        "id": "0kRCblCk5AHb"
      },
      "source": [
        "!pip install matplotlib"
      ],
      "execution_count": null,
      "outputs": []
    },
    {
      "cell_type": "code",
      "metadata": {
        "id": "lrah9x1sjzW_"
      },
      "source": [
        "# in case tensorflow bugs are experienced\n",
        "# Try to unintall and install tensorflow-gpu \n",
        "\n",
        "!pip uninstall tensorflow-gpu==1.14.0\n",
        "!pip install tensorflow-gpu==1.14.0"
      ],
      "execution_count": null,
      "outputs": []
    },
    {
      "cell_type": "code",
      "metadata": {
        "id": "EEig-YYMmAmT"
      },
      "source": [
        "#Fixing the GPU Selection\n",
        "from tensorflow.python.client import device_lib\n",
        "\n",
        "def get_available_gpus():\n",
        "  local_device_protos = device_lib.list_local_devices()\n",
        "  return [x.name for x in local_device_protos if x.device_type == 'GPU']\n",
        "\n",
        "get_available_gpus()\n",
        "import tensorflow as tf\n",
        "physical_devices = tf.config.experimental.list_physical_devices(\"GPU\")\n",
        "tf.config.experimental.set_memory_growth(physical_devices[0], True)"
      ],
      "execution_count": null,
      "outputs": []
    },
    {
      "cell_type": "code",
      "metadata": {
        "colab": {
          "base_uri": "https://localhost:8080/"
        },
        "id": "qGrnwJWpnC2F",
        "outputId": "56c89933-a25f-4743-8662-eb76992d3236"
      },
      "source": [
        "tf.device('/device:GPU:0')"
      ],
      "execution_count": null,
      "outputs": [
        {
          "output_type": "execute_result",
          "data": {
            "text/plain": [
              "<contextlib._GeneratorContextManager at 0x7fca059b72b0>"
            ]
          },
          "metadata": {
            "tags": []
          },
          "execution_count": 12
        }
      ]
    },
    {
      "cell_type": "code",
      "metadata": {
        "colab": {
          "base_uri": "https://localhost:8080/"
        },
        "id": "W7y3GhNYnPMf",
        "outputId": "4df014fc-7e88-4bee-99d1-1e37e3fd5634"
      },
      "source": [
        "get_available_gpus()"
      ],
      "execution_count": null,
      "outputs": [
        {
          "output_type": "execute_result",
          "data": {
            "text/plain": [
              "['/device:GPU:0']"
            ]
          },
          "metadata": {
            "tags": []
          },
          "execution_count": 20
        }
      ]
    },
    {
      "cell_type": "code",
      "metadata": {
        "id": "Bdt7dYOcPCBQ"
      },
      "source": [
        "from general_utils.processing import letterbox_image_padded, decode_detection_raw\n",
        "from general_utils.visualization import visualize_detection\n",
        "\n",
        "import json\n",
        "import cv2\n",
        "import time\n",
        "from PIL import Image\n",
        "from google.colab.patches import cv2_imshow\n",
        "import matplotlib.pyplot as plt\n",
        "import numpy as np\n",
        "import scipy.misc\n",
        "colors = plt.cm.hsv(np.linspace(0, 1, 21)).tolist()"
      ],
      "execution_count": null,
      "outputs": []
    },
    {
      "cell_type": "code",
      "metadata": {
        "id": "8B5w5VEHPGrR"
      },
      "source": [
        "# Load video\n",
        "vidcap = cv2.VideoCapture('man-walking-with-a-laggage.mov')"
      ],
      "execution_count": null,
      "outputs": []
    },
    {
      "cell_type": "code",
      "metadata": {
        "id": "RyClzW03PKIW"
      },
      "source": [
        "# Functions\n",
        "\n",
        "def getFrame(sec):\n",
        "  vidcap.set(cv2.CAP_PROP_POS_MSEC,sec*1000)\n",
        "  hasFrames,img = vidcap.read()\n",
        "  return (img, hasFrames)\n",
        "\n",
        "def generateCv2img(cv2img, detection_processed, path = None, display = False):\n",
        "  fontScale = 0.7 # font & text block ratio\n",
        "  for box in detection_processed:\n",
        "    id, label, conf = box[0], box[1], box[2]\n",
        "    x1, y1, x2, y2 = box[3], box[4], box[5], box[6]\n",
        "    cv2.rectangle(cv2img,(x1,y1),(x2,y2),(0,255,0),6)\n",
        "\n",
        "    labelSize=cv2.getTextSize(label,cv2.FONT_HERSHEY_COMPLEX,fontScale,2)\n",
        "    _x1 = x1\n",
        "    _y1 = y1\n",
        "    _x2 = _x1 + int(labelSize[0][0] * fontScale)\n",
        "    _y2 = y1 - int(labelSize[0][1]* fontScale)\n",
        "    cv2.rectangle(cv2img,(_x1,_y1),(_x2,_y2),(0,255,0),cv2.FILLED)\n",
        "    cv2.putText(cv2img,label,(x1,y1),cv2.FONT_HERSHEY_COMPLEX,0.5,(0,0,0),1)\n",
        "\n",
        "  if path != None:\n",
        "    cv2.imwrite(path + str(count) + \".jpg\", cv2img)\n",
        "\n",
        "  if display: \n",
        "    cv2_imshow(cv2img)\n",
        "\n",
        "  return cv2img\n",
        "\n",
        "  cv2.destroyAllWindows()"
      ],
      "execution_count": null,
      "outputs": []
    },
    {
      "cell_type": "markdown",
      "metadata": {
        "id": "s7kmYwztHY9u"
      },
      "source": [
        "##Methods to Decrease Prediction Time\n"
      ]
    },
    {
      "cell_type": "code",
      "metadata": {
        "id": "mxeTGfh1HYVe"
      },
      "source": [
        "\n",
        "#Method1\n",
        "\n",
        "#calculate the average cumulative prediction time and compare it with the target fps to fluctuate to a different fps \n",
        "\n",
        "def changePredTime(goal, changeTo, times, fps_list):\n",
        "\n",
        "  avg_time=sum(times)/len(times)\n",
        "  \n",
        "  #changing framerate according to prediction time average so far\n",
        "  if avg_time > (1/24) :\n",
        "    frame_rate= changeTo\n",
        "  else:\n",
        "    frame_rate= goal\n",
        "\n",
        "  fps_list.append(frame_rate)\n",
        "\n",
        "  return frame_rate\n",
        "\n",
        "#Method2\n",
        "\n",
        "#if prediction time at n-1 increased since n-2 , fluctuate to a different fps; if prediction time at n-1 is decreased since n-2, keep the target fps\n",
        "\n",
        "def changePredTime2(goal, changeTo, times, fps_list, count):\n",
        "\n",
        "  if (times[count-1]-times[count-2]) >= 0:\n",
        "    frame_rate= changeTo\n",
        "  else:\n",
        "    frame_rate= goal\n",
        "\n",
        "  fps_list.append(frame_rate)\n",
        "\n",
        "  return frame_rate"
      ],
      "execution_count": null,
      "outputs": []
    },
    {
      "cell_type": "markdown",
      "metadata": {
        "id": "nzwk4KyJO1Wn"
      },
      "source": [
        "##SSD 512"
      ]
    },
    {
      "cell_type": "code",
      "metadata": {
        "id": "M3MYxQDYPN-_",
        "colab": {
          "base_uri": "https://localhost:8080/"
        },
        "outputId": "d33687cd-6681-477a-c741-5a73c8abb541"
      },
      "source": [
        "\n",
        "from detectors.ssd import SSD512\n",
        "# Load the model\n",
        "detector = SSD512(weights='model_weights/SSD_VOC0712_VGG16_512x512.h5')\n",
        "\n",
        "# Parameters\n",
        "sec = 0\n",
        "fps = 24\n",
        "frameRate = 1 / fps # interval between frames\n",
        "goal=1/24\n",
        "changeTo=1/20     #one of the values from [1/5, 1/10, 1/15, 1/20] can be selected as changeTo variable value\n",
        "count = 0\n",
        "success = getFrame(sec)\n",
        "images = []\n",
        "cv2imgs = []\n",
        "times = []\n",
        "results = []\n",
        "result_imgs = []\n",
        "fps_list=[]\n",
        "fps_list.append(frameRate)\n",
        "modelName = \"ssd512\"\n",
        "path = './output/'+ modelName + str(fps) + '/'\n",
        "\n",
        "# Convert the video to frames and make prediction\n",
        "while success:\n",
        "  count = count + 1\n",
        "  sec = sec + frameRate\n",
        "  sec = round(sec, 2)\n",
        "  image ,success = getFrame(sec)\n",
        "  \n",
        "  if not success:\n",
        "    continue\n",
        "\n",
        "  # convert np array back to image\n",
        "  cv2img = image\n",
        "  cv2imgs.append(image)\n",
        "  image = Image.fromarray(image) \n",
        "  images.append(image)\n",
        "\n",
        "  # Time and make prediction\n",
        "  x_query, x_meta = letterbox_image_padded(image, size=detector.model_img_size)\n",
        "  start = time.time()\n",
        "  detection_raw = detector.detect(x_query, conf_threshold=detector.confidence_thresh_default)\n",
        "  end = time.time()\n",
        "  detection_processed = decode_detection_raw(detection_raw, x_meta, detector.classes)\n",
        "  \n",
        "  # Generate and save the result image\n",
        "  result_img = generateCv2img(cv2img, detection_processed, path = path)        #, display = False)\n",
        "  result_imgs.append(result_img)\n",
        "\n",
        "  # Collect the result\n",
        "  results.append(detection_processed)\n",
        "  times.append(end - start)\n",
        "\n",
        "  # method1\n",
        "  # changing fps if there is lag\n",
        "  # frameRate=changePredTime(goal, changeTo, times, fps_list)\n",
        "\n",
        "  #method2\n",
        "  #changing fps if there is lag\n",
        "  if len(times)>1:\n",
        "    frameRate=changePredTime2(goal, changeTo, times, fps_list, count)\n",
        "\n",
        "\n",
        "print(\"Number of frames:\", len(times))\n",
        "\n",
        "# Time summary    \n",
        "summary = [max(times), min(times), sum(times)/len(times) ]\n",
        "print(\"Prediction time list\", times)\n",
        "print(\"Max:\", max(times))\n",
        "print(\"Min:\", min(times))\n",
        "print(\"Avg:\", sum(times)/len(times))\n",
        "\n",
        "# Save intervals \n",
        "# data = json.dumps(times)\n",
        "\n",
        "# with open(path + 'intervals.json', 'w') as f:\n",
        "#     json.dump(data, f)\n",
        "# # Save summary\n",
        "# data = json.dumps(summary)\n",
        "# with open(path + 'time_summary.json', 'w') as f:\n",
        "#     json.dump(data, f)\n",
        "\n",
        "  \n",
        "# Confidence summary\n",
        "conf = []\n",
        "for elm in results:\n",
        "  if len(elm) != 0:\n",
        "    conf.append(elm[0][2])\n",
        "\n",
        "confFps = {}\n",
        "confFps['rawConfList'] = conf\n",
        "confFps['maxConf'] = max(conf)\n",
        "confFps['minConf'] = min(conf)\n",
        "confFps['avgConf'] = sum(conf)/len(conf)\n",
        "print('max(conf)', confFps['maxConf'])\n",
        "print('min(conf)', confFps['minConf'])\n",
        "print('avgConf', confFps['avgConf'])"
      ],
      "execution_count": null,
      "outputs": [
        {
          "output_type": "stream",
          "text": [
            "Number of frames: 145\n",
            "Prediction time list [4.553586483001709, 0.09069180488586426, 0.09317588806152344, 0.09085226058959961, 0.08978962898254395, 0.09668350219726562, 0.0919189453125, 0.09146881103515625, 0.0896451473236084, 0.08997178077697754, 0.09083199501037598, 0.09359359741210938, 0.09180474281311035, 0.0912313461303711, 0.09411191940307617, 0.08987140655517578, 0.09252023696899414, 0.09335970878601074, 0.09597992897033691, 0.09168291091918945, 0.0920865535736084, 0.09574770927429199, 0.09595656394958496, 0.09185218811035156, 0.09107255935668945, 0.09033608436584473, 0.09632587432861328, 0.09784221649169922, 0.09337568283081055, 0.0922853946685791, 0.09280967712402344, 0.09882545471191406, 0.09572958946228027, 0.09136319160461426, 0.09058284759521484, 0.09104013442993164, 0.09101414680480957, 0.08993124961853027, 0.09069013595581055, 0.09054684638977051, 0.09230470657348633, 0.08980631828308105, 0.09628605842590332, 0.09464597702026367, 0.08954548835754395, 0.0902869701385498, 0.08968639373779297, 0.09525227546691895, 0.08976888656616211, 0.09473490715026855, 0.09398961067199707, 0.09213137626647949, 0.09351778030395508, 0.08964729309082031, 0.09019804000854492, 0.09096813201904297, 0.09114575386047363, 0.09031176567077637, 0.0953364372253418, 0.09407663345336914, 0.09405183792114258, 0.09513568878173828, 0.09444236755371094, 0.10138750076293945, 0.09244847297668457, 0.0929110050201416, 0.08928298950195312, 0.08954858779907227, 0.09046149253845215, 0.08916568756103516, 0.09023332595825195, 0.09023594856262207, 0.09235882759094238, 0.0904378890991211, 0.09048247337341309, 0.09749817848205566, 0.09023690223693848, 0.0957176685333252, 0.09484624862670898, 0.08971953392028809, 0.09115147590637207, 0.09541082382202148, 0.09048652648925781, 0.08936357498168945, 0.0897982120513916, 0.09435868263244629, 0.09816718101501465, 0.09054899215698242, 0.09103107452392578, 0.09591269493103027, 0.0956583023071289, 0.09097170829772949, 0.09593510627746582, 0.09027814865112305, 0.0959775447845459, 0.09090638160705566, 0.09046769142150879, 0.09284186363220215, 0.09170341491699219, 0.10164523124694824, 0.09240961074829102, 0.09047150611877441, 0.09019994735717773, 0.09128475189208984, 0.09080862998962402, 0.09056353569030762, 0.09504580497741699, 0.09438204765319824, 0.09104776382446289, 0.09169793128967285, 0.08995962142944336, 0.09038686752319336, 0.09505701065063477, 0.09414124488830566, 0.09093379974365234, 0.09076619148254395, 0.08990192413330078, 0.09118151664733887, 0.09119391441345215, 0.0962839126586914, 0.09149622917175293, 0.09023022651672363, 0.09498858451843262, 0.09202003479003906, 0.09217619895935059, 0.09211182594299316, 0.09186196327209473, 0.0903782844543457, 0.09474730491638184, 0.09063005447387695, 0.09167742729187012, 0.0903773307800293, 0.09114670753479004, 0.0966343879699707, 0.09019351005554199, 0.08925533294677734, 0.09024333953857422, 0.0914762020111084, 0.08908486366271973, 0.09075927734375, 0.0891566276550293, 0.09027218818664551, 0.0906534194946289, 0.08915400505065918, 0.09112906455993652]\n",
            "Max: 4.553586483001709\n",
            "Min: 0.08908486366271973\n",
            "Avg: 0.1230249388464566\n",
            "max(conf) 0.9999567270278931\n",
            "min(conf) 0.5124812126159668\n",
            "avgConf 0.8879218408376863\n"
          ],
          "name": "stdout"
        }
      ]
    },
    {
      "cell_type": "code",
      "metadata": {
        "id": "9pER5amoqkU_"
      },
      "source": [
        "# Convert images back to video\n",
        "import cv2\n",
        "import numpy as np\n",
        "import glob\n",
        " \n",
        "img_array = []\n",
        "for filename in  result_imgs:\n",
        "    # img = cv2.imread(filename)\n",
        "    img=filename\n",
        "    height, width, layers = img.shape\n",
        "    size = (width,height)\n",
        "    img_array.append(img)\n",
        " \n",
        " \n",
        "out = cv2.VideoWriter('test.mp4',cv2.VideoWriter_fourcc(*'MP4V'), 24, size)\n",
        " \n",
        "for i in range(len(img_array)):\n",
        "    out.write(img_array[i])\n",
        "out.release()"
      ],
      "execution_count": null,
      "outputs": []
    },
    {
      "cell_type": "code",
      "metadata": {
        "id": "96RxwEfcpphR",
        "colab": {
          "base_uri": "https://localhost:8080/",
          "height": 411
        },
        "outputId": "bb66789a-e0e0-4a47-e7c8-a3c091110670"
      },
      "source": [
        "import pandas as pd\n",
        "#Results of using only 24 fps\n",
        "fps_24 = pd.DataFrame(\n",
        "    # {'FPS': fps_list,\n",
        "     {'Times24': times,\n",
        "     'Confidence24': conf \n",
        "    })\n",
        "fps_24"
      ],
      "execution_count": null,
      "outputs": [
        {
          "output_type": "execute_result",
          "data": {
            "text/html": [
              "<div>\n",
              "<style scoped>\n",
              "    .dataframe tbody tr th:only-of-type {\n",
              "        vertical-align: middle;\n",
              "    }\n",
              "\n",
              "    .dataframe tbody tr th {\n",
              "        vertical-align: top;\n",
              "    }\n",
              "\n",
              "    .dataframe thead th {\n",
              "        text-align: right;\n",
              "    }\n",
              "</style>\n",
              "<table border=\"1\" class=\"dataframe\">\n",
              "  <thead>\n",
              "    <tr style=\"text-align: right;\">\n",
              "      <th></th>\n",
              "      <th>Times24</th>\n",
              "      <th>Confidence24</th>\n",
              "    </tr>\n",
              "  </thead>\n",
              "  <tbody>\n",
              "    <tr>\n",
              "      <th>0</th>\n",
              "      <td>2.678609</td>\n",
              "      <td>0.999936</td>\n",
              "    </tr>\n",
              "    <tr>\n",
              "      <th>1</th>\n",
              "      <td>0.091036</td>\n",
              "      <td>0.999542</td>\n",
              "    </tr>\n",
              "    <tr>\n",
              "      <th>2</th>\n",
              "      <td>0.085801</td>\n",
              "      <td>0.999648</td>\n",
              "    </tr>\n",
              "    <tr>\n",
              "      <th>3</th>\n",
              "      <td>0.083680</td>\n",
              "      <td>0.999727</td>\n",
              "    </tr>\n",
              "    <tr>\n",
              "      <th>4</th>\n",
              "      <td>0.073761</td>\n",
              "      <td>0.999118</td>\n",
              "    </tr>\n",
              "    <tr>\n",
              "      <th>...</th>\n",
              "      <td>...</td>\n",
              "      <td>...</td>\n",
              "    </tr>\n",
              "    <tr>\n",
              "      <th>198</th>\n",
              "      <td>0.092955</td>\n",
              "      <td>0.999885</td>\n",
              "    </tr>\n",
              "    <tr>\n",
              "      <th>199</th>\n",
              "      <td>0.089470</td>\n",
              "      <td>0.999883</td>\n",
              "    </tr>\n",
              "    <tr>\n",
              "      <th>200</th>\n",
              "      <td>0.084922</td>\n",
              "      <td>0.999881</td>\n",
              "    </tr>\n",
              "    <tr>\n",
              "      <th>201</th>\n",
              "      <td>0.075243</td>\n",
              "      <td>0.999816</td>\n",
              "    </tr>\n",
              "    <tr>\n",
              "      <th>202</th>\n",
              "      <td>0.074497</td>\n",
              "      <td>0.999582</td>\n",
              "    </tr>\n",
              "  </tbody>\n",
              "</table>\n",
              "<p>203 rows × 2 columns</p>\n",
              "</div>"
            ],
            "text/plain": [
              "      Times24  Confidence24\n",
              "0    2.678609      0.999936\n",
              "1    0.091036      0.999542\n",
              "2    0.085801      0.999648\n",
              "3    0.083680      0.999727\n",
              "4    0.073761      0.999118\n",
              "..        ...           ...\n",
              "198  0.092955      0.999885\n",
              "199  0.089470      0.999883\n",
              "200  0.084922      0.999881\n",
              "201  0.075243      0.999816\n",
              "202  0.074497      0.999582\n",
              "\n",
              "[203 rows x 2 columns]"
            ]
          },
          "metadata": {
            "tags": []
          },
          "execution_count": 54
        }
      ]
    },
    {
      "cell_type": "code",
      "metadata": {
        "id": "XkHI5aPktk-a",
        "colab": {
          "base_uri": "https://localhost:8080/",
          "height": 411
        },
        "outputId": "107f2428-e2e0-48f5-abbf-773907b2caa4"
      },
      "source": [
        "\n",
        "#Results of using both 20 and 24 fps\n",
        "fps_2420 = pd.DataFrame(\n",
        "    {'FPS2420': fps_list,\n",
        "     'Times2420': times,\n",
        "     'Confidence2420': conf \n",
        "    })\n",
        "fps_2420"
      ],
      "execution_count": null,
      "outputs": [
        {
          "output_type": "execute_result",
          "data": {
            "text/html": [
              "<div>\n",
              "<style scoped>\n",
              "    .dataframe tbody tr th:only-of-type {\n",
              "        vertical-align: middle;\n",
              "    }\n",
              "\n",
              "    .dataframe tbody tr th {\n",
              "        vertical-align: top;\n",
              "    }\n",
              "\n",
              "    .dataframe thead th {\n",
              "        text-align: right;\n",
              "    }\n",
              "</style>\n",
              "<table border=\"1\" class=\"dataframe\">\n",
              "  <thead>\n",
              "    <tr style=\"text-align: right;\">\n",
              "      <th></th>\n",
              "      <th>FPS2420</th>\n",
              "      <th>Times2420</th>\n",
              "      <th>Confidence2420</th>\n",
              "    </tr>\n",
              "  </thead>\n",
              "  <tbody>\n",
              "    <tr>\n",
              "      <th>0</th>\n",
              "      <td>0.041667</td>\n",
              "      <td>2.592643</td>\n",
              "      <td>0.999936</td>\n",
              "    </tr>\n",
              "    <tr>\n",
              "      <th>1</th>\n",
              "      <td>0.041667</td>\n",
              "      <td>0.096851</td>\n",
              "      <td>0.999542</td>\n",
              "    </tr>\n",
              "    <tr>\n",
              "      <th>2</th>\n",
              "      <td>0.041667</td>\n",
              "      <td>0.095854</td>\n",
              "      <td>0.999648</td>\n",
              "    </tr>\n",
              "    <tr>\n",
              "      <th>3</th>\n",
              "      <td>0.041667</td>\n",
              "      <td>0.089719</td>\n",
              "      <td>0.999727</td>\n",
              "    </tr>\n",
              "    <tr>\n",
              "      <th>4</th>\n",
              "      <td>0.041667</td>\n",
              "      <td>0.080680</td>\n",
              "      <td>0.999118</td>\n",
              "    </tr>\n",
              "    <tr>\n",
              "      <th>...</th>\n",
              "      <td>...</td>\n",
              "      <td>...</td>\n",
              "      <td>...</td>\n",
              "    </tr>\n",
              "    <tr>\n",
              "      <th>176</th>\n",
              "      <td>0.041667</td>\n",
              "      <td>0.090941</td>\n",
              "      <td>0.999888</td>\n",
              "    </tr>\n",
              "    <tr>\n",
              "      <th>177</th>\n",
              "      <td>0.041667</td>\n",
              "      <td>0.085487</td>\n",
              "      <td>0.999883</td>\n",
              "    </tr>\n",
              "    <tr>\n",
              "      <th>178</th>\n",
              "      <td>0.041667</td>\n",
              "      <td>0.080601</td>\n",
              "      <td>0.999889</td>\n",
              "    </tr>\n",
              "    <tr>\n",
              "      <th>179</th>\n",
              "      <td>0.050000</td>\n",
              "      <td>0.081089</td>\n",
              "      <td>0.999887</td>\n",
              "    </tr>\n",
              "    <tr>\n",
              "      <th>180</th>\n",
              "      <td>0.050000</td>\n",
              "      <td>0.088295</td>\n",
              "      <td>0.999589</td>\n",
              "    </tr>\n",
              "  </tbody>\n",
              "</table>\n",
              "<p>181 rows × 3 columns</p>\n",
              "</div>"
            ],
            "text/plain": [
              "      FPS2420  Times2420  Confidence2420\n",
              "0    0.041667   2.592643        0.999936\n",
              "1    0.041667   0.096851        0.999542\n",
              "2    0.041667   0.095854        0.999648\n",
              "3    0.041667   0.089719        0.999727\n",
              "4    0.041667   0.080680        0.999118\n",
              "..        ...        ...             ...\n",
              "176  0.041667   0.090941        0.999888\n",
              "177  0.041667   0.085487        0.999883\n",
              "178  0.041667   0.080601        0.999889\n",
              "179  0.050000   0.081089        0.999887\n",
              "180  0.050000   0.088295        0.999589\n",
              "\n",
              "[181 rows x 3 columns]"
            ]
          },
          "metadata": {
            "tags": []
          },
          "execution_count": 52
        }
      ]
    },
    {
      "cell_type": "code",
      "metadata": {
        "id": "OaTsLDaIuxN5",
        "colab": {
          "base_uri": "https://localhost:8080/",
          "height": 411
        },
        "outputId": "16bb5004-633d-49e4-e894-0d43575df751"
      },
      "source": [
        "#Results of using both 24 and 15\n",
        "fps_2415 = pd.DataFrame(\n",
        "    {'FPS2415': fps_list,\n",
        "     'Times2415': times,\n",
        "     'Confidence2415': conf \n",
        "    })\n",
        "fps_2415"
      ],
      "execution_count": null,
      "outputs": [
        {
          "output_type": "execute_result",
          "data": {
            "text/html": [
              "<div>\n",
              "<style scoped>\n",
              "    .dataframe tbody tr th:only-of-type {\n",
              "        vertical-align: middle;\n",
              "    }\n",
              "\n",
              "    .dataframe tbody tr th {\n",
              "        vertical-align: top;\n",
              "    }\n",
              "\n",
              "    .dataframe thead th {\n",
              "        text-align: right;\n",
              "    }\n",
              "</style>\n",
              "<table border=\"1\" class=\"dataframe\">\n",
              "  <thead>\n",
              "    <tr style=\"text-align: right;\">\n",
              "      <th></th>\n",
              "      <th>FPS2415</th>\n",
              "      <th>Times2415</th>\n",
              "      <th>Confidence2415</th>\n",
              "    </tr>\n",
              "  </thead>\n",
              "  <tbody>\n",
              "    <tr>\n",
              "      <th>0</th>\n",
              "      <td>0.041667</td>\n",
              "      <td>2.312481</td>\n",
              "      <td>0.999936</td>\n",
              "    </tr>\n",
              "    <tr>\n",
              "      <th>1</th>\n",
              "      <td>0.041667</td>\n",
              "      <td>0.089208</td>\n",
              "      <td>0.999542</td>\n",
              "    </tr>\n",
              "    <tr>\n",
              "      <th>2</th>\n",
              "      <td>0.041667</td>\n",
              "      <td>0.089113</td>\n",
              "      <td>0.999648</td>\n",
              "    </tr>\n",
              "    <tr>\n",
              "      <th>3</th>\n",
              "      <td>0.066667</td>\n",
              "      <td>0.089637</td>\n",
              "      <td>0.999727</td>\n",
              "    </tr>\n",
              "    <tr>\n",
              "      <th>4</th>\n",
              "      <td>0.041667</td>\n",
              "      <td>0.085980</td>\n",
              "      <td>0.999020</td>\n",
              "    </tr>\n",
              "    <tr>\n",
              "      <th>...</th>\n",
              "      <td>...</td>\n",
              "      <td>...</td>\n",
              "      <td>...</td>\n",
              "    </tr>\n",
              "    <tr>\n",
              "      <th>143</th>\n",
              "      <td>0.066667</td>\n",
              "      <td>0.096903</td>\n",
              "      <td>0.999624</td>\n",
              "    </tr>\n",
              "    <tr>\n",
              "      <th>144</th>\n",
              "      <td>0.041667</td>\n",
              "      <td>0.090855</td>\n",
              "      <td>0.999885</td>\n",
              "    </tr>\n",
              "    <tr>\n",
              "      <th>145</th>\n",
              "      <td>0.066667</td>\n",
              "      <td>0.098145</td>\n",
              "      <td>0.999883</td>\n",
              "    </tr>\n",
              "    <tr>\n",
              "      <th>146</th>\n",
              "      <td>0.041667</td>\n",
              "      <td>0.096037</td>\n",
              "      <td>0.999816</td>\n",
              "    </tr>\n",
              "    <tr>\n",
              "      <th>147</th>\n",
              "      <td>0.041667</td>\n",
              "      <td>0.085898</td>\n",
              "      <td>0.999589</td>\n",
              "    </tr>\n",
              "  </tbody>\n",
              "</table>\n",
              "<p>148 rows × 3 columns</p>\n",
              "</div>"
            ],
            "text/plain": [
              "      FPS2415  Times2415  Confidence2415\n",
              "0    0.041667   2.312481        0.999936\n",
              "1    0.041667   0.089208        0.999542\n",
              "2    0.041667   0.089113        0.999648\n",
              "3    0.066667   0.089637        0.999727\n",
              "4    0.041667   0.085980        0.999020\n",
              "..        ...        ...             ...\n",
              "143  0.066667   0.096903        0.999624\n",
              "144  0.041667   0.090855        0.999885\n",
              "145  0.066667   0.098145        0.999883\n",
              "146  0.041667   0.096037        0.999816\n",
              "147  0.041667   0.085898        0.999589\n",
              "\n",
              "[148 rows x 3 columns]"
            ]
          },
          "metadata": {
            "tags": []
          },
          "execution_count": 50
        }
      ]
    },
    {
      "cell_type": "code",
      "metadata": {
        "id": "9t3snIDbxFS1",
        "colab": {
          "base_uri": "https://localhost:8080/",
          "height": 411
        },
        "outputId": "01e9789f-f96f-4f1e-b695-05cd49abeaa0"
      },
      "source": [
        "#Results of using both 24 and 10\n",
        "fps_2410 = pd.DataFrame(\n",
        "    {'FPS2410': fps_list,\n",
        "     'Times2410': times,\n",
        "     'Confidence2410': conf \n",
        "    })\n",
        "fps_2410"
      ],
      "execution_count": null,
      "outputs": [
        {
          "output_type": "execute_result",
          "data": {
            "text/html": [
              "<div>\n",
              "<style scoped>\n",
              "    .dataframe tbody tr th:only-of-type {\n",
              "        vertical-align: middle;\n",
              "    }\n",
              "\n",
              "    .dataframe tbody tr th {\n",
              "        vertical-align: top;\n",
              "    }\n",
              "\n",
              "    .dataframe thead th {\n",
              "        text-align: right;\n",
              "    }\n",
              "</style>\n",
              "<table border=\"1\" class=\"dataframe\">\n",
              "  <thead>\n",
              "    <tr style=\"text-align: right;\">\n",
              "      <th></th>\n",
              "      <th>FPS2410</th>\n",
              "      <th>Times2410</th>\n",
              "      <th>Confidence2410</th>\n",
              "    </tr>\n",
              "  </thead>\n",
              "  <tbody>\n",
              "    <tr>\n",
              "      <th>0</th>\n",
              "      <td>0.041667</td>\n",
              "      <td>2.072683</td>\n",
              "      <td>0.999936</td>\n",
              "    </tr>\n",
              "    <tr>\n",
              "      <th>1</th>\n",
              "      <td>0.041667</td>\n",
              "      <td>0.090904</td>\n",
              "      <td>0.999542</td>\n",
              "    </tr>\n",
              "    <tr>\n",
              "      <th>2</th>\n",
              "      <td>0.041667</td>\n",
              "      <td>0.089413</td>\n",
              "      <td>0.999648</td>\n",
              "    </tr>\n",
              "    <tr>\n",
              "      <th>3</th>\n",
              "      <td>0.041667</td>\n",
              "      <td>0.084636</td>\n",
              "      <td>0.999727</td>\n",
              "    </tr>\n",
              "    <tr>\n",
              "      <th>4</th>\n",
              "      <td>0.041667</td>\n",
              "      <td>0.083902</td>\n",
              "      <td>0.999118</td>\n",
              "    </tr>\n",
              "    <tr>\n",
              "      <th>...</th>\n",
              "      <td>...</td>\n",
              "      <td>...</td>\n",
              "      <td>...</td>\n",
              "    </tr>\n",
              "    <tr>\n",
              "      <th>114</th>\n",
              "      <td>0.100000</td>\n",
              "      <td>0.083247</td>\n",
              "      <td>0.999389</td>\n",
              "    </tr>\n",
              "    <tr>\n",
              "      <th>115</th>\n",
              "      <td>0.100000</td>\n",
              "      <td>0.094132</td>\n",
              "      <td>0.999624</td>\n",
              "    </tr>\n",
              "    <tr>\n",
              "      <th>116</th>\n",
              "      <td>0.041667</td>\n",
              "      <td>0.083249</td>\n",
              "      <td>0.999883</td>\n",
              "    </tr>\n",
              "    <tr>\n",
              "      <th>117</th>\n",
              "      <td>0.100000</td>\n",
              "      <td>0.083507</td>\n",
              "      <td>0.999889</td>\n",
              "    </tr>\n",
              "    <tr>\n",
              "      <th>118</th>\n",
              "      <td>0.100000</td>\n",
              "      <td>0.087033</td>\n",
              "      <td>0.999582</td>\n",
              "    </tr>\n",
              "  </tbody>\n",
              "</table>\n",
              "<p>119 rows × 3 columns</p>\n",
              "</div>"
            ],
            "text/plain": [
              "      FPS2410  Times2410  Confidence2410\n",
              "0    0.041667   2.072683        0.999936\n",
              "1    0.041667   0.090904        0.999542\n",
              "2    0.041667   0.089413        0.999648\n",
              "3    0.041667   0.084636        0.999727\n",
              "4    0.041667   0.083902        0.999118\n",
              "..        ...        ...             ...\n",
              "114  0.100000   0.083247        0.999389\n",
              "115  0.100000   0.094132        0.999624\n",
              "116  0.041667   0.083249        0.999883\n",
              "117  0.100000   0.083507        0.999889\n",
              "118  0.100000   0.087033        0.999582\n",
              "\n",
              "[119 rows x 3 columns]"
            ]
          },
          "metadata": {
            "tags": []
          },
          "execution_count": 48
        }
      ]
    },
    {
      "cell_type": "code",
      "metadata": {
        "id": "fOpuJUbz2Vmb",
        "colab": {
          "base_uri": "https://localhost:8080/",
          "height": 411
        },
        "outputId": "60c67038-dc3d-448e-ed29-2852760abae1"
      },
      "source": [
        "#Results of using both 24 and 5\n",
        "fps_list\n",
        "fps_2405 = pd.DataFrame(\n",
        "    {'FPS2405': fps_list,\n",
        "     'Times2405': times,\n",
        "     'Confidence2405': conf \n",
        "    })\n",
        "fps_2405"
      ],
      "execution_count": null,
      "outputs": [
        {
          "output_type": "execute_result",
          "data": {
            "text/html": [
              "<div>\n",
              "<style scoped>\n",
              "    .dataframe tbody tr th:only-of-type {\n",
              "        vertical-align: middle;\n",
              "    }\n",
              "\n",
              "    .dataframe tbody tr th {\n",
              "        vertical-align: top;\n",
              "    }\n",
              "\n",
              "    .dataframe thead th {\n",
              "        text-align: right;\n",
              "    }\n",
              "</style>\n",
              "<table border=\"1\" class=\"dataframe\">\n",
              "  <thead>\n",
              "    <tr style=\"text-align: right;\">\n",
              "      <th></th>\n",
              "      <th>FPS2405</th>\n",
              "      <th>Times2405</th>\n",
              "      <th>Confidence2405</th>\n",
              "    </tr>\n",
              "  </thead>\n",
              "  <tbody>\n",
              "    <tr>\n",
              "      <th>0</th>\n",
              "      <td>0.041667</td>\n",
              "      <td>1.806911</td>\n",
              "      <td>0.999936</td>\n",
              "    </tr>\n",
              "    <tr>\n",
              "      <th>1</th>\n",
              "      <td>0.041667</td>\n",
              "      <td>0.089367</td>\n",
              "      <td>0.999542</td>\n",
              "    </tr>\n",
              "    <tr>\n",
              "      <th>2</th>\n",
              "      <td>0.200000</td>\n",
              "      <td>0.089733</td>\n",
              "      <td>0.999648</td>\n",
              "    </tr>\n",
              "    <tr>\n",
              "      <th>3</th>\n",
              "      <td>0.041667</td>\n",
              "      <td>0.089130</td>\n",
              "      <td>0.996479</td>\n",
              "    </tr>\n",
              "    <tr>\n",
              "      <th>4</th>\n",
              "      <td>0.200000</td>\n",
              "      <td>0.091145</td>\n",
              "      <td>0.995736</td>\n",
              "    </tr>\n",
              "    <tr>\n",
              "      <th>...</th>\n",
              "      <td>...</td>\n",
              "      <td>...</td>\n",
              "      <td>...</td>\n",
              "    </tr>\n",
              "    <tr>\n",
              "      <th>62</th>\n",
              "      <td>0.200000</td>\n",
              "      <td>0.074349</td>\n",
              "      <td>0.999941</td>\n",
              "    </tr>\n",
              "    <tr>\n",
              "      <th>63</th>\n",
              "      <td>0.041667</td>\n",
              "      <td>0.068938</td>\n",
              "      <td>0.999786</td>\n",
              "    </tr>\n",
              "    <tr>\n",
              "      <th>64</th>\n",
              "      <td>0.200000</td>\n",
              "      <td>0.072880</td>\n",
              "      <td>0.999850</td>\n",
              "    </tr>\n",
              "    <tr>\n",
              "      <th>65</th>\n",
              "      <td>0.200000</td>\n",
              "      <td>0.073711</td>\n",
              "      <td>0.999834</td>\n",
              "    </tr>\n",
              "    <tr>\n",
              "      <th>66</th>\n",
              "      <td>0.041667</td>\n",
              "      <td>0.070291</td>\n",
              "      <td>0.999582</td>\n",
              "    </tr>\n",
              "  </tbody>\n",
              "</table>\n",
              "<p>67 rows × 3 columns</p>\n",
              "</div>"
            ],
            "text/plain": [
              "     FPS2405  Times2405  Confidence2405\n",
              "0   0.041667   1.806911        0.999936\n",
              "1   0.041667   0.089367        0.999542\n",
              "2   0.200000   0.089733        0.999648\n",
              "3   0.041667   0.089130        0.996479\n",
              "4   0.200000   0.091145        0.995736\n",
              "..       ...        ...             ...\n",
              "62  0.200000   0.074349        0.999941\n",
              "63  0.041667   0.068938        0.999786\n",
              "64  0.200000   0.072880        0.999850\n",
              "65  0.200000   0.073711        0.999834\n",
              "66  0.041667   0.070291        0.999582\n",
              "\n",
              "[67 rows x 3 columns]"
            ]
          },
          "metadata": {
            "tags": []
          },
          "execution_count": 46
        }
      ]
    },
    {
      "cell_type": "code",
      "metadata": {
        "id": "QVAnLshMI9HO"
      },
      "source": [
        "fps_2415.to_excel('2415method2.xlsx')\n",
        "fps_2405.to_excel('2405method2.xlsx')\n",
        "fps_2410.to_excel('2410method2.xlsx')\n",
        "fps_2420.to_excel('2420method2.xlsx')\n",
        "fps_20.to_excel('24method2.xlsx')"
      ],
      "execution_count": null,
      "outputs": []
    },
    {
      "cell_type": "code",
      "metadata": {
        "id": "K3o_A9Dqs_-w",
        "colab": {
          "base_uri": "https://localhost:8080/",
          "height": 280
        },
        "outputId": "2b1eec7e-5ae1-4b7d-9b34-3f80efe17f0a"
      },
      "source": [
        "#method2\n",
        "# !pip install matplotlib==3.1.3\n",
        "import matplotlib.pyplot as plt\n",
        "plt.figure()\n",
        "\n",
        "plt.plot(fps_2405.iloc[1:205].Times2405) \n",
        "plt.plot(fps_2410.iloc[1:205].Times2410)\n",
        "plt.plot(fps_2415.iloc[1:205].Times2415)\n",
        "plt.plot(fps_2420.iloc[1:205].Times2420)\n",
        "plt.plot(fps_24.iloc[1:205].Times24)\n",
        "\n",
        "plt.title('Prediction Times') \n",
        "plt.legend([\"5\", \"10\",\"15\", \"20\",\"24\"],loc='center left', bbox_to_anchor=(1.0, 0.5))\n",
        "\n",
        "plt.show()"
      ],
      "execution_count": null,
      "outputs": [
        {
          "output_type": "display_data",
          "data": {
            "image/png": "[encoded data removed]",
            "text/plain": [
              "<Figure size 432x288 with 1 Axes>"
            ]
          },
          "metadata": {
            "tags": [],
            "needs_background": "light"
          }
        }
      ]
    }
  ]
}